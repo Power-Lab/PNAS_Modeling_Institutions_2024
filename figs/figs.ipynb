{
 "cells": [
  {
   "cell_type": "code",
   "execution_count": 1,
   "metadata": {},
   "outputs": [],
   "source": [
    "import pandas as pd\n",
    "import os\n",
    "import matplotlib.pyplot as plt\n",
    "import numpy as np\n",
    "from matplotlib.patches import Rectangle"
   ]
  },
  {
   "cell_type": "code",
   "execution_count": 2,
   "metadata": {},
   "outputs": [],
   "source": [
    "from IPython.display import display, HTML"
   ]
  },
  {
   "cell_type": "code",
   "execution_count": 3,
   "metadata": {},
   "outputs": [
    {
     "data": {
      "text/html": [
       "\n",
       "<style>\n",
       "    div#notebook-container    { width: 95%; }\n",
       "    div#menubar-container     { width: 65%; }\n",
       "    div#maintoolbar-container { width: 99%; }\n",
       "</style>\n"
      ],
      "text/plain": [
       "<IPython.core.display.HTML object>"
      ]
     },
     "metadata": {},
     "output_type": "display_data"
    }
   ],
   "source": [
    "display(HTML(data = \"\"\"\n",
    "<style>\n",
    "    div#notebook-container    { width: 95%; }\n",
    "    div#menubar-container     { width: 65%; }\n",
    "    div#maintoolbar-container { width: 99%; }\n",
    "</style>\n",
    "\"\"\"))"
   ]
  },
  {
   "cell_type": "markdown",
   "metadata": {},
   "source": [
    "### Input and results folders"
   ]
  },
  {
   "cell_type": "code",
   "execution_count": 2,
   "metadata": {},
   "outputs": [],
   "source": [
    "data_powergenome = os.path.join(os.path.abspath('..'), 'data/powergenome')\n",
    "data_extra = os.path.join(os.path.abspath('..'), 'data/extra/extra_inputs')\n",
    "\n",
    "result_eeo_reference = os.path.join(os.path.abspath('..'), 'results/eeo/reference')\n",
    "result_eeo_heterogeneity = os.path.join(os.path.abspath('..'), 'results/eeo/heterogeneity')\n",
    "\n",
    "result_abm = os.path.join(os.path.abspath('..'), 'results/abm')\n",
    "result_iam = os.path.join(os.path.abspath('..'), 'results/iam')"
   ]
  },
  {
   "cell_type": "markdown",
   "metadata": {},
   "source": [
    "### Figure parameters"
   ]
  },
  {
   "cell_type": "code",
   "execution_count": 3,
   "metadata": {},
   "outputs": [],
   "source": [
    "fig1 = 15\n",
    "fig2 = 9\n",
    "fs = 10\n",
    "dpi_qual = 300"
   ]
  },
  {
   "cell_type": "markdown",
   "metadata": {},
   "source": [
    "### Reading results for EEO"
   ]
  },
  {
   "cell_type": "code",
   "execution_count": 4,
   "metadata": {},
   "outputs": [],
   "source": [
    "def sort_with_generators(path, namedf, iscap, isdispatch, isstart, isstor, stordata):\n",
    "    \n",
    "    if isstor == False:\n",
    "        data = pd.read_csv(os.path.join(path, namedf))\n",
    "    else:\n",
    "        data = stordata\n",
    "    \n",
    "    if isdispatch == True or isstart == True or isstor == True:\n",
    "        data = data.rename(columns = {'Index':'R_ID'})\n",
    "        \n",
    "    data = data.set_index('R_ID')\n",
    "    data = data.reindex(index = generators['R_ID'])\n",
    "    data = data.reset_index()\n",
    "    \n",
    "    if iscap == True:\n",
    "        data = data.drop(columns = ['R_ID', 'Zone', 'Region', 'Resource', 'NOS'])\n",
    "    else:\n",
    "        data = data.drop(columns = ['R_ID', 'Zone', 'Region', 'Resource'])\n",
    "    \n",
    "    if isstart == True or isstor == True:\n",
    "        data = data.fillna(0)\n",
    "        \n",
    "    return data"
   ]
  },
  {
   "cell_type": "code",
   "execution_count": 5,
   "metadata": {},
   "outputs": [],
   "source": [
    "def prepare_dataframe(path, namedf):\n",
    "    data = pd.read_csv(os.path.join(path, namedf))\n",
    "    data = data.transpose()\n",
    "    data.columns = data.iloc[0] \n",
    "    data = data[1:]\n",
    "    data = data / 1000\n",
    "    return data"
   ]
  },
  {
   "cell_type": "code",
   "execution_count": 6,
   "metadata": {},
   "outputs": [],
   "source": [
    "generators = pd.read_csv(os.path.join(data_powergenome, \"Generators_data.csv\"))\n",
    "\n",
    "load = pd.read_csv(os.path.join(data_powergenome, \"Load_data.csv\"))\n",
    "\n",
    "cost_nonserved = load.Cost_of_demand_curtailment_perMW.dropna()[0] * load.Voll[0]\n",
    "cost_voluntary = load.Cost_of_demand_curtailment_perMW.dropna()[1] * load.Voll[0]\n",
    "\n",
    "sample_weight = np.repeat(load.Sub_Weights.dropna().tolist() / load.Timesteps_per_Rep_Period.dropna()[0], load.Timesteps_per_Rep_Period.dropna()[0])\n",
    "\n",
    "network = pd.read_csv(os.path.join(data_powergenome, \"Network.csv\"))\n",
    "\n",
    "pronetwork = pd.read_csv(os.path.join(data_extra, \"new_transmission_lines.csv\"))\n",
    "\n",
    "hurdle = pd.read_csv(os.path.join(data_extra, \"hurdle_rates.csv\"))\n",
    "\n",
    "rein_to_fixed = pd.read_csv(os.path.join(data_extra, \"other_inputs.csv\"))[pd.read_csv(os.path.join(data_extra, \"other_inputs.csv\"))['Parameter'] == 'reinforcement_to_fixed']['Value'].tolist()[0]\n",
    "\n",
    "costs = [pd.read_csv(os.path.join(result_eeo_reference, \"cost_components.csv\")),\n",
    "         pd.read_csv(os.path.join(result_eeo_heterogeneity, \"cost_components.csv\"))]\n",
    "\n",
    "allcap = [sort_with_generators(result_eeo_reference, \"allcap.csv\", \n",
    "                    iscap = True, isdispatch = False, isstart = False, isstor = False, stordata = None),\n",
    "          sort_with_generators(result_eeo_heterogeneity, \"allcap.csv\", \n",
    "                    iscap = True, isdispatch = False, isstart = False, isstor = False, stordata = None)]\n",
    "\n",
    "aggregated_cap = [prepare_dataframe(result_eeo_reference, \"allcap_aggregate.csv\"),\n",
    "                  prepare_dataframe(result_eeo_heterogeneity, \"allcap_aggregate.csv\")]\n",
    "\n",
    "# Normally, taking vRETESTOROLD_results is wrong because these show retired capacity, not the final capacity. But, investment and fixed cost are zero for these resources. Hence, results are not affected by this fallacy.\n",
    "stor_merged_without = pd.concat([pd.read_csv(os.path.join(result_eeo_reference, \"vCAPESTORNEW_results.csv\")), \n",
    "                                 pd.read_csv(os.path.join(result_eeo_reference, \"vCAPESTORSTABLE_results.csv\")), \n",
    "                                 pd.read_csv(os.path.join(result_eeo_reference, \"vRETESTOROLD_results.csv\"))])\n",
    "stor_merged_with = pd.concat([pd.read_csv(os.path.join(result_eeo_heterogeneity, \"vCAPESTORNEW_results.csv\")), \n",
    "                              pd.read_csv(os.path.join(result_eeo_heterogeneity, \"vCAPESTORSTABLE_results.csv\")), \n",
    "                              pd.read_csv(os.path.join(result_eeo_heterogeneity, \"vRETESTOROLD_results.csv\"))])\n",
    "\n",
    "stor_merged = [sort_with_generators(None, None, iscap = False, isdispatch = False, isstart = False, \n",
    "                                    isstor = True, stordata = stor_merged_without),\n",
    "               sort_with_generators(None, None, iscap = False, isdispatch = False, isstart = False, \n",
    "                                    isstor = True, stordata = stor_merged_with)]\n",
    "\n",
    "dispatch = [sort_with_generators(result_eeo_reference, \"vGENDISPATCH_results.csv\", \n",
    "                    iscap = False, isdispatch = True, isstart = False, isstor = False, stordata = None),\n",
    "            sort_with_generators(result_eeo_heterogeneity, \"vGENDISPATCH_results.csv\", \n",
    "                    iscap = False, isdispatch = True, isstart = False, isstor = False, stordata = None)]\n",
    "\n",
    "nse_withoutins, nse_withins = [], []\n",
    "for x in generators.Zone.unique():\n",
    "    nse_withoutins.append(pd.read_csv(os.path.join(result_eeo_reference, \"vNSE\" + str(x) + \".csv\")))\n",
    "    nse_withins.append(pd.read_csv(os.path.join(result_eeo_heterogeneity, \"vNSE\" + str(x) + \".csv\")))\n",
    "nse = [nse_withoutins, nse_withins]   \n",
    "\n",
    "start = [sort_with_generators(result_eeo_reference, \"vSTARTUC_results.csv\", \n",
    "                    iscap = False, isdispatch = False, isstart = True, isstor = False, stordata = None),\n",
    "         sort_with_generators(result_eeo_heterogeneity, \"vSTARTUC_results.csv\", \n",
    "                    iscap = False, isdispatch = False, isstart = True, isstor = False, stordata = None)]\n",
    "\n",
    "capline = [pd.read_csv(os.path.join(result_eeo_reference, \"vCAPLINE_results.csv\")),\n",
    "           pd.read_csv(os.path.join(result_eeo_heterogeneity, \"vCAPLINE_results.csv\"))]\n",
    "\n",
    "flow = pd.read_csv(os.path.join(result_eeo_heterogeneity, \"vFLOW_results.csv\"))\n",
    "\n",
    "scenario_name_iam = ['Reference', 'Policy Heterogeneity']\n",
    "scenario_name_eeo = ['Reference', 'Coordination Heterogeneity']\n",
    "scenario_name_abm = ['Reference', 'Norm Heterogeneity']"
   ]
  },
  {
   "cell_type": "markdown",
   "metadata": {},
   "source": [
    "### Reading results for IAM"
   ]
  },
  {
   "cell_type": "code",
   "execution_count": 7,
   "metadata": {},
   "outputs": [],
   "source": [
    "results_iam = pd.read_excel(result_iam + '/gcam-usa_data.xlsx')\n",
    "iam_cost_withoutins, iam_cost_withins = results_iam.iloc[3]['Unnamed: 2'], results_iam.iloc[3]['Unnamed: 1']"
   ]
  },
  {
   "cell_type": "code",
   "execution_count": 8,
   "metadata": {
    "scrolled": false
   },
   "outputs": [],
   "source": [
    "iam_dist_costs = results_iam.iloc[6:10]\n",
    "iam_dist_costs.columns = iam_dist_costs.iloc[0]\n",
    "iam_dist_costs = iam_dist_costs.drop(6)\n",
    "indextobe = iam_dist_costs.iloc[:, 0].tolist()\n",
    "iam_dist_costs = iam_dist_costs.iloc[: , 1:]\n",
    "iam_dist_costs['States'] = indextobe\n",
    "iam_dist_costs = iam_dist_costs.set_index('States')\n",
    "iam_dist_costs = iam_dist_costs * 100"
   ]
  },
  {
   "cell_type": "markdown",
   "metadata": {},
   "source": [
    "### Reading results for ABM"
   ]
  },
  {
   "cell_type": "code",
   "execution_count": 9,
   "metadata": {},
   "outputs": [],
   "source": [
    "results_abm = pd.read_excel(result_abm + \"/energy_model_results.ods\", engine = 'odf') # install odfpy package with 'pip insall odfpy beforehand'\n",
    "abm_pv_withoutins, abm_pv_withins = results_abm.iloc[1]['Without institutions(Rational agents)'], results_abm.iloc[1]['With institutions(Behavioral agents)']"
   ]
  },
  {
   "cell_type": "code",
   "execution_count": 10,
   "metadata": {},
   "outputs": [],
   "source": [
    "abm_dist_costs = results_abm.iloc[13:21]\n",
    "abm_dist_costs.columns = abm_dist_costs.iloc[0]\n",
    "abm_dist_costs = abm_dist_costs.drop(13)\n",
    "indextobe = abm_dist_costs.iloc[:, 0].tolist()\n",
    "abm_dist_costs = abm_dist_costs.iloc[: , 1:]\n",
    "abm_dist_costs['Groups'] = indextobe\n",
    "abm_dist_costs = abm_dist_costs.set_index('Groups')\n",
    "abm_dist_costs = abm_dist_costs * 100\n",
    "abm_dist_costs.index = abm_dist_costs.index.str.replace(\"Energy use \", \"\")\n",
    "abm_dist_costs.index = abm_dist_costs.index.str.replace(\" kWh/year\", \"\")"
   ]
  },
  {
   "cell_type": "markdown",
   "metadata": {},
   "source": [
    "### Create region description data and network data"
   ]
  },
  {
   "cell_type": "code",
   "execution_count": 11,
   "metadata": {},
   "outputs": [],
   "source": [
    "region_name, region_code = [], []\n",
    "for x in generators.Zone.unique():\n",
    "    region_name.append(generators.loc[generators['Zone'] == x]['region'].tolist()[0])\n",
    "    region_code.append(\"z\" + str(x))\n",
    "    \n",
    "regiondf = pd.DataFrame({'Code':region_code, 'Region':region_name})"
   ]
  },
  {
   "cell_type": "code",
   "execution_count": 12,
   "metadata": {},
   "outputs": [],
   "source": [
    "linenum = pd.concat([network[regiondf.Code.tolist()], \n",
    "                     pronetwork[regiondf.Code.tolist()]]).set_index(capline[0]['Path'])"
   ]
  },
  {
   "cell_type": "code",
   "execution_count": 13,
   "metadata": {},
   "outputs": [],
   "source": [
    "flow = flow.drop(columns = ['Index']).set_index('Path')\n",
    "for x in linenum: flow[x] = linenum[x]"
   ]
  },
  {
   "cell_type": "markdown",
   "metadata": {},
   "source": [
    "### Solar, wind, and battery capacity"
   ]
  },
  {
   "cell_type": "code",
   "execution_count": 14,
   "metadata": {},
   "outputs": [
    {
     "data": {
      "image/png": "[encoded data removed]",
      "text/plain": [
       "<Figure size 1080x648 with 1 Axes>"
      ]
     },
     "metadata": {
      "needs_background": "light"
     },
     "output_type": "display_data"
    }
   ],
   "source": [
    "ind = np.arange(len(aggregated_cap[0].index))\n",
    "bar_width = 0.32\n",
    "bar_space = 0.44\n",
    "linew = 9\n",
    "\n",
    "fig, ax = plt.subplots(1, 1, figsize = (fig1, fig2))\n",
    "\n",
    "ax.bar(ind, aggregated_cap[0].STOR + aggregated_cap[0].SOLAR + aggregated_cap[0].WIND, width = bar_width, \n",
    "       label = '', color = 'white', edgecolor = '#ffe599', linewidth = linew) \n",
    "\n",
    "ax.bar(ind, aggregated_cap[0].STOR, width = bar_width, label = 'STOR', color = 'darkgray')\n",
    "ax.bar(ind, aggregated_cap[0].SOLAR, width = bar_width, label = 'SOLAR', color = 'paleturquoise', \n",
    "       bottom = aggregated_cap[0].STOR)\n",
    "ax.bar(ind, aggregated_cap[0].WIND, width = bar_width, label = 'WIND', color = 'lightsteelblue', \n",
    "       bottom = aggregated_cap[0].STOR + aggregated_cap[0].SOLAR)\n",
    "\n",
    "ax.bar(ind + bar_space, aggregated_cap[1].STOR + aggregated_cap[1].SOLAR + aggregated_cap[1].WIND, \n",
    "       width = bar_width, color = 'white', edgecolor = '#b6d7a8', linewidth = linew)\n",
    "\n",
    "ax.bar(ind + bar_space, aggregated_cap[1].STOR, width = bar_width, color = 'darkgray')\n",
    "ax.bar(ind + bar_space, aggregated_cap[1].SOLAR, width = bar_width, color = 'paleturquoise', \n",
    "       bottom = aggregated_cap[1].STOR)\n",
    "ax.bar(ind + bar_space, aggregated_cap[1].WIND, width = bar_width, color = 'lightsteelblue', \n",
    "       bottom = aggregated_cap[1].STOR + aggregated_cap[1].SOLAR)\n",
    "\n",
    "ax.set_ylabel('GW', fontsize = 14)\n",
    "ax.tick_params(axis = 'y', labelsize = 14)\n",
    "ax.tick_params(axis = 'x', labelsize = 14)\n",
    "ax.yaxis.grid()\n",
    "ax.set_xticks(ind + bar_space / 2)\n",
    "ax.set_xticklabels(aggregated_cap[0].index)\n",
    "ax.legend(fontsize = 14, frameon = False)\n",
    "ax.set_ylim(0, max(max(aggregated_cap[0].STOR + aggregated_cap[0].SOLAR + aggregated_cap[0].WIND), \n",
    "                   max(aggregated_cap[1].STOR + aggregated_cap[1].SOLAR + aggregated_cap[1].WIND)) + 3)\n",
    "\n",
    "ax.add_patch(Rectangle((0, 70), 0.3, 3, fc = 'none', ec = '#ffe599', lw = 5))\n",
    "ax.add_patch(Rectangle((0, 66), 0.3, 3, fc = 'none', ec = '#b6d7a8', lw = 5))\n",
    "ax.text(0.5, 70.7, 'Reference', fontsize = 14)\n",
    "ax.text(0.5, 66.7, 'Coordination Heterogeneity', fontsize = 14)\n",
    "\n",
    "os.path.join(os.path.abspath(\"\"), 'Results')\n",
    "\n",
    "plt.savefig('capacity.pdf', dpi = dpi_qual, bbox_inches = 'tight', pad_inches = 0)"
   ]
  },
  {
   "cell_type": "markdown",
   "metadata": {},
   "source": [
    "### Cost by state"
   ]
  },
  {
   "cell_type": "code",
   "execution_count": 15,
   "metadata": {
    "scrolled": false
   },
   "outputs": [],
   "source": [
    "for x, name in enumerate(scenario_name_eeo):\n",
    "    \n",
    "    generators['eFixCostGen'] = generators.Fixed_OM_Cost_per_MWyr * allcap[x].OptValues + generators.Inv_Cost_per_MWyr * allcap[x].OptValues\n",
    "    generators['eFixCostStor'] = generators.Fixed_OM_Cost_per_MWhyr * stor_merged[x].OptValues + generators.Inv_Cost_per_MWhyr * stor_merged[x].OptValues\n",
    "    \n",
    "    temp_slice = generators[(generators.STOR == 1) | (generators.LHYDRO == 1)]['eFixCostGen']\n",
    "    generators.loc[(generators.STOR == 1) | (generators.LHYDRO == 1), 'eFixCostGen'] = 0\n",
    "    generators.loc[(generators.STOR == 1) | (generators.LHYDRO == 1), 'eFixCostStor'] += temp_slice\n",
    "    \n",
    "    generators['eVarCostGen'] = dispatch[x].mul(generators.Var_Cost, axis = 0).mul(sample_weight, axis = 1).sum(axis = 1)\n",
    "    generators['eStartCostUC'] = start[x].mul(generators.Start_Cost * generators.Cap_Size, axis = 0).sum(axis = 1)\n",
    "    \n",
    "    nc_final = []\n",
    "    for y in nse[x]:\n",
    "        nc_final.append(y.drop(columns = ['Index']).mul([cost_nonserved, cost_voluntary], axis = 0).mul(sample_weight, axis = 1).sum(axis = 1).sum())\n",
    "        \n",
    "    nsecost_final = pd.DataFrame()\n",
    "    nsecost_final['Zone'] = generators.Zone.unique()\n",
    "    nsecost_final['eNSECosts'] = nc_final\n",
    "    nsecost_final = nsecost_final.set_index('Zone')\n",
    "    \n",
    "    invcost_existing = ((capline[x][0:len(network)]['OptValues'] - network.Line_Max_Flow_MW) * network.Line_Reinforcement_Cost_per_MWyr).tolist()\n",
    "    invcost_proposed = [a * b for a, b in zip(capline[x][len(network):]['OptValues'].tolist(), pronetwork.Line_Reinforcement_Cost_per_MWyr.tolist())]\n",
    "    invcost_fixed = [a * b for a, b in zip((network.Line_Reinforcement_Cost_per_MWyr / rein_to_fixed).tolist() + (pronetwork.Line_Reinforcement_Cost_per_MWyr / rein_to_fixed).tolist(), \n",
    "                            capline[x]['OptValues'].tolist())]\n",
    "    \n",
    "    invcost = pd.DataFrame()\n",
    "    invcost['InvCost'] = invcost_existing + invcost_proposed\n",
    "    invcost['FixedCost'] = invcost_fixed\n",
    "    invcost = invcost.set_index(capline[x]['Path'])\n",
    "    for colline in linenum: invcost[colline] = linenum[colline]\n",
    "    state_line_cost = []\n",
    "    for colline in linenum:\n",
    "        state_line_cost.append(invcost[invcost[colline].isin([-1,1])][['InvCost', 'FixedCost']].sum().sum() / 2)\n",
    "    \n",
    "    state_line_cost_final = pd.DataFrame()\n",
    "    state_line_cost_final['Zone'] = generators.Zone.unique()\n",
    "    state_line_cost_final['eFixCostLine'] = state_line_cost\n",
    "    state_line_cost_final = state_line_cost_final.set_index('Zone')\n",
    "    \n",
    "    if name == 'Coordination Heterogeneity':\n",
    "        \n",
    "        hurdle_cost = []\n",
    "        for colline in linenum:\n",
    "\n",
    "            zone_name = regiondf[regiondf.Code == colline]['Region'].tolist()[0]\n",
    "            summ = 0\n",
    "            for origin in [1, -1]:\n",
    "\n",
    "                subdf = flow[flow[colline].isin([origin])].drop(columns = regiondf.Code.tolist())\n",
    "                \n",
    "                if origin == 1:\n",
    "                    sumdf = subdf[subdf < 0].sum(1)\n",
    "                else:\n",
    "                    sumdf = subdf[subdf > 0].sum(1)\n",
    "\n",
    "                for (path, total_flow)  in zip(sumdf.index, sumdf):\n",
    "                    \n",
    "                    if origin == 1:\n",
    "                        if (path.split('_')[0] != 'SD') & (path.split('_')[2] != 'SD'):\n",
    "                            end = path.split('_')[2]\n",
    "\n",
    "                        if path.split('_')[0] == 'SD':\n",
    "                            end = path.split('_')[3]\n",
    "                        elif path.split('_')[2] == 'SD':\n",
    "                            end = str(path.split('_')[2] + '_' + path.split('_')[3])\n",
    "\n",
    "                    else:\n",
    "                        if (path.split('_')[0] != 'SD') & (path.split('_')[2] != 'SD'):\n",
    "                            end = path.split('_')[0]\n",
    "\n",
    "                        if path.split('_')[0] == 'SD':\n",
    "                            end = str(path.split('_')[0] + '_' + path.split('_')[1])\n",
    "                        elif path.split('_')[2] == 'SD':\n",
    "                            end = path.split('_')[0]\n",
    "                    \n",
    "                    if (zone_name == 'NorCal' or zone_name == 'SD_IID' or zone_name == 'SoCal') and (end == 'NorCal' or end == 'SD_IID' or end == 'SoCal'):\n",
    "                        continue\n",
    "                    else:\n",
    "                        if origin == 1:\n",
    "                            summ = summ + abs(total_flow * hurdle[hurdle.Regions == end]['Rate_From'].tolist()[0])\n",
    "                        else:\n",
    "                            summ = summ + total_flow * hurdle[hurdle.Regions == end]['Rate_From'].tolist()[0]\n",
    "\n",
    "            hurdle_cost.append(summ)\n",
    "\n",
    "        hurdle_cost_final = pd.DataFrame()\n",
    "        hurdle_cost_final['Zone'] = generators.Zone.unique()\n",
    "        hurdle_cost_final['eTransactionCost'] = hurdle_cost\n",
    "        hurdle_cost_final = hurdle_cost_final.set_index('Zone')\n",
    "    \n",
    "    costsum = generators.groupby(['region','Zone'])[['eFixCostGen', 'eFixCostStor', 'eVarCostGen', 'eStartCostUC']].sum()\n",
    "    costsum = costsum.reset_index(level = 'region')\n",
    "    costsum = pd.merge(costsum, nsecost_final, how = 'outer', on = 'Zone')\n",
    "    costsum = pd.merge(costsum, state_line_cost_final, how = 'outer', on = 'Zone')\n",
    "    if name == 'Coordination Heterogeneity':\n",
    "        costsum = pd.merge(costsum, hurdle_cost_final, how = 'outer', on = 'Zone')\n",
    "    costsum = costsum.set_index('region')\n",
    "    costsum.loc['CA'] = costsum.loc[['NorCal', 'SD_IID', 'SoCal']].sum()\n",
    "    costsum = costsum.drop(['NorCal', 'SD_IID', 'SoCal'])\n",
    "    \n",
    "    if name == 'Coordination Heterogeneity':\n",
    "        costsum_withins = pd.DataFrame(costsum.sum(axis = 1), columns = [name])\n",
    "    else:\n",
    "        costsum_withoutins = pd.DataFrame(costsum.sum(axis = 1), columns = [name])\n",
    "        \n",
    "    generators = generators.drop(['eFixCostGen', 'eFixCostStor', 'eVarCostGen', 'eStartCostUC'], axis=1)\n",
    "    \n",
    "cost_final = pd.merge(costsum_withoutins, costsum_withins, how = 'outer', on = 'region')\n",
    "cost_final = cost_final * 10000 / 1000000000\n",
    "cost_final.sort_index(inplace = True)"
   ]
  },
  {
   "cell_type": "code",
   "execution_count": 16,
   "metadata": {
    "scrolled": false
   },
   "outputs": [
    {
     "name": "stderr",
     "output_type": "stream",
     "text": [
      "No handles with labels found to put in legend.\n",
      "No handles with labels found to put in legend.\n",
      "No handles with labels found to put in legend.\n"
     ]
    },
    {
     "data": {
      "image/png": "[encoded data removed]",
      "text/plain": [
       "<Figure size 1152x648 with 4 Axes>"
      ]
     },
     "metadata": {
      "needs_background": "light"
     },
     "output_type": "display_data"
    }
   ],
   "source": [
    "fig, ax = plt.subplots(2, 2, figsize = (16, 9), constrained_layout = True)\n",
    "\n",
    "ax[0,0].bar([0,1,2,3,4,5], [iam_cost_withoutins, iam_cost_withins, \n",
    "                          1, sum(costs[1].Values) / sum(costs[0].Values),\n",
    "                          abm_pv_withoutins, abm_pv_withins], width = 0.4, \n",
    "                  color = ['#ffe599', '#b6d7a8', '#ffe599', '#b6d7a8', '#ffe599', '#b6d7a8'])\n",
    "\n",
    "ax[0,0].set_ylim(0, 1.5)\n",
    "ax[0,0].tick_params(axis = 'y', labelsize = fs)\n",
    "ax[0,0].tick_params(axis = 'x', labelsize = fs)\n",
    "\n",
    "ax[0,0].text(0, iam_cost_withoutins + 0.05, round(iam_cost_withoutins, 3), fontsize = fs)\n",
    "ax[0,0].text(1, iam_cost_withins + 0.05, round(iam_cost_withins, 3), fontsize = fs)\n",
    "ax[0,0].text(0.4, 1.35, 'IAM', fontsize = fs)\n",
    "ax[0,0].text(-0.2, 1.25, 'National Annual Total', fontsize = fs)\n",
    "ax[0,0].text(-0.05, 1.18, 'Mitigation Cost', fontsize = fs)\n",
    "\n",
    "ax[0,0].text(2, 1 + 0.05, round(1, 3), fontsize = fs)\n",
    "ax[0,0].text(3, sum(costs[1].Values) / sum(costs[0].Values) + 0.05, \n",
    "        round(sum(costs[1].Values) / sum(costs[0].Values), 3), fontsize = fs)\n",
    "ax[0,0].text(2.4, 1.35, 'EEO', fontsize = fs)\n",
    "ax[0,0].text(1.9, 1.25, 'Total Annual Power', fontsize = fs)\n",
    "ax[0,0].text(2.05, 1.18, 'System Cost', fontsize = fs)\n",
    "\n",
    "ax[0,0].text(4, abm_pv_withoutins + 0.05, round(abm_pv_withoutins, 3), fontsize = fs)\n",
    "ax[0,0].text(5, abm_pv_withins + 0.05, round(abm_pv_withins, 3), fontsize = fs)\n",
    "ax[0,0].text(4.4, 1.35, 'ABM', fontsize = fs)\n",
    "ax[0,0].text(3.6, 1.25, 'Cumulative Regional Costs of', fontsize = fs)\n",
    "ax[0,0].text(3.55, 1.18, 'PV Investments by Households', fontsize = fs)\n",
    "ax[0,0].text(-0.2, 1.4, '(a)', fontsize = 14)\n",
    "\n",
    "ax[0,0].axvline(x = 1.5, color = 'black')\n",
    "ax[0,0].axvline(x = 3.5, color = 'black')\n",
    "\n",
    "ax[0,0].set_xticklabels(['', scenario_name_iam[0], scenario_name_iam[1].split(' ')[0] + \"\\n\" + scenario_name_iam[1].split(' ')[1], \n",
    "                       scenario_name_eeo[0], scenario_name_eeo[1].split(' ')[0] + \"\\n\" + scenario_name_eeo[1].split(' ')[1],\n",
    "                       scenario_name_abm[0], scenario_name_abm[1].split(' ')[0] + \"\\n\" + scenario_name_abm[1].split(' ')[1]])\n",
    "\n",
    "for x in range(0,3):\n",
    "    if x == 0:\n",
    "        ax[x,1].bar(np.arange(len(iam_dist_costs.index)), iam_dist_costs['Without Institution'], \n",
    "                  width = 0.15, label = 'Reference', color = '#ffe599', zorder = 3)\n",
    "        ax[x,1].bar(np.arange(len(iam_dist_costs.index)) + 0.15, iam_dist_costs['With institution'], width = 0.15, \n",
    "                  label = 'Policy Heterogeneity', color = '#b6d7a8', zorder = 3)\n",
    "        ax[x,1].set_ylabel('Mitigation Cost (% projected 2050 GDP)', fontsize = fs)\n",
    "        ax[x,1].set_xticks(np.arange(len(iam_dist_costs.index)) + 0.15 / 2)\n",
    "        ax[x,1].set_xticklabels(iam_dist_costs.index)\n",
    "        ax[x,1].tick_params(axis = 'x', labelsize = fs)\n",
    "        ax[x,1].text(2, 7, 'IAM', fontsize = 20)\n",
    "        ax[x,1].text(0.2, 9.5, '(b)', fontsize = 14)\n",
    "    elif x == 1:\n",
    "        ax[x,0].bar(np.arange(len(cost_final.index)), cost_final['Reference'], \n",
    "                  width = 0.4, label = 'Reference', color = '#ffe599', zorder = 3)\n",
    "        ax[x,0].bar(np.arange(len(cost_final.index)) + 0.4, cost_final['Coordination Heterogeneity'], \n",
    "                  width = 0.4, label = 'Coordination Heterogeneity', color = '#b6d7a8', zorder = 3)\n",
    "        ax[x,0].set_ylabel('Total Annual Power System Cost (billion $)', fontsize = fs)\n",
    "        ax[x,0].set_xticks(np.arange(len(cost_final.index)) + 0.4 / 2)\n",
    "        ax[x,0].set_xticklabels(cost_final.index)\n",
    "        ax[x,0].tick_params(axis = 'x', labelsize = fs)\n",
    "        ax[x,0].text(4, 9, 'EEO', fontsize = 20)\n",
    "        ax[x,0].text(0, 9, '(c)', fontsize = 14)\n",
    "    else:\n",
    "        ax[x-1,1].bar(np.arange(len(abm_dist_costs.index)), abm_dist_costs['Without institutions(Rational agents)'], \n",
    "                  width = 0.4, label = 'Reference', color = '#ffe599', zorder = 3)\n",
    "        ax[x-1,1].bar(np.arange(len(abm_dist_costs.index)) + 0.4, abm_dist_costs['With institutions(Behavioral agents)'], \n",
    "                  width = 0.4, label = 'Norm Heterogeneity', color = '#b6d7a8', zorder = 3)\n",
    "        ax[x-1,1].set_ylabel('PV investment after 20 years (% of total)', fontsize = fs)\n",
    "        ax[x-1,1].set_xlabel('Energy Groups (energy use intervals in kWh/year)', fontsize = fs)\n",
    "        ax[x-1,1].set_xticks(np.arange(len(abm_dist_costs.index)) + 0.4 / 2)\n",
    "        ax[x-1,1].set_xticklabels(abm_dist_costs.index)\n",
    "        ax[x-1,1].tick_params(axis = 'x', labelsize = fs)\n",
    "        ax[x-1,1].text(1, 15, 'ABM', fontsize = 20)\n",
    "        ax[x-1,1].text(-0.2, 20, '(d)', fontsize = 14)\n",
    "        \n",
    "    ax[0,1].tick_params(axis = 'y', labelsize = fs)    \n",
    "    ax[0,1].yaxis.grid(zorder = 0)\n",
    "    ax[0,1].legend(fontsize = fs, frameon = False)\n",
    "    \n",
    "    ax[1,0].tick_params(axis = 'y', labelsize = fs)    \n",
    "    ax[1,0].yaxis.grid(zorder = 0)\n",
    "    ax[1,0].legend(fontsize = fs, frameon = False)\n",
    "    \n",
    "    ax[1,1].tick_params(axis = 'y', labelsize = fs)    \n",
    "    ax[1,1].yaxis.grid(zorder = 0)\n",
    "    ax[1,1].legend(fontsize = fs, frameon = False)\n",
    "\n",
    "plt.savefig('combined_figure.pdf', dpi = dpi_qual, bbox_inches = 'tight', pad_inches = 0)"
   ]
  }
 ],
 "metadata": {
  "kernelspec": {
   "display_name": "Python 3",
   "language": "python",
   "name": "python3"
  },
  "language_info": {
   "codemirror_mode": {
    "name": "ipython",
    "version": 3
   },
   "file_extension": ".py",
   "mimetype": "text/x-python",
   "name": "python",
   "nbconvert_exporter": "python",
   "pygments_lexer": "ipython3",
   "version": "3.7.4"
  }
 },
 "nbformat": 4,
 "nbformat_minor": 5
}
